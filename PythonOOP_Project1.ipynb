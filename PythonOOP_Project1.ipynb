{
 "cells": [
  {
   "cell_type": "markdown",
   "metadata": {},
   "source": [
    "## Importing modules"
   ]
  },
  {
   "cell_type": "code",
   "execution_count": null,
   "metadata": {},
   "outputs": [],
   "source": [
    "import emoji\n",
    "from random import choice"
   ]
  },
  {
   "cell_type": "markdown",
   "metadata": {},
   "source": [
    "## Creating Purse class\n",
    "#### Setting default balance to 10\n",
    "#### Creating debit, credit, get_balance methods"
   ]
  },
  {
   "cell_type": "code",
   "execution_count": null,
   "metadata": {},
   "outputs": [],
   "source": [
    "class Purse():\n",
    "    def __init__(self):\n",
    "        # Setting balance to 10 - default\n",
    "        self.balance = 10\n",
    "\n",
    "        # print(\"========== SLOT MACHINE ==========\")\n",
    "        # print(\"Minimum bet is 2. Type 'N' to exit.\")\n",
    "        # print(\"Your balance is:\", self.balance)\n",
    "\n",
    "    def debit(self, won):\n",
    "        self.won = won\n",
    "        self.balance = self.balance + won # Score slot method   \n",
    "    \n",
    "    def credit(self, bet): # Bet amount\n",
    "        self.bet = bet \n",
    "        self.balance = self.balance - bet # Amount betted\n",
    "    \n",
    "    def get_balance(self):\n",
    "        print(\"Balance =\", self.balance)"
   ]
  },
  {
   "cell_type": "markdown",
   "metadata": {},
   "source": [
    "## Slot Class\n",
    "#### Setting 'won' to 0, initialising\n",
    "#### Take_bet method: Credit users balance by amount betted\n",
    "#### Pull_handle method: Runs change face method, which creates random faces/emojis. This is done on each face.\n",
    "#### Show_slot method: Print out result of random choice emojis\n",
    "#### Score_slot: Score the slot based on 3/3, 2/3 or 1/3, taking the amount betted as a parameter in order to calculate winnings.\n"
   ]
  },
  {
   "cell_type": "code",
   "execution_count": null,
   "metadata": {},
   "outputs": [],
   "source": [
    "class Slot():\n",
    "    def __init__(self):\n",
    "        self.won = 0\n",
    "    def take_bet(self, bet):\n",
    "        self.bet = bet\n",
    "        p1.credit(bet)\n",
    "        s1.pull_handle()\n",
    "    \n",
    "    def pull_handle(self):\n",
    "         c1.change_face()\n",
    "         c2.change_face()\n",
    "         c3.change_face()\n",
    "    \n",
    "    def show_slot (self):\n",
    "        print(c1.face, \"|\", c2.face,\"|\",  c3.face)\n",
    "    \n",
    "    def score_slot (self, bet):\n",
    "        self.bet = bet\n",
    "        if c1.face == c2.face == c3.face:\n",
    "            print(\"3/3, FULL HOUSE!!!\")\n",
    "            self.won = bet + bet\n",
    "            p1.debit(self.won)\n",
    "        elif c1.face != c2.face != c3.face != c1.face:\n",
    "            print(\"You scored 0/3, better luck next time\")\n",
    "            self.won = 0\n",
    "            p1.debit(self.won)\n",
    "\n",
    "        else:\n",
    "            print(\"You scored 2/3, HALF HOUSE!\")\n",
    "            self.won = bet + (bet/2)\n",
    "            p1.debit(self.won)\n"
   ]
  },
  {
   "cell_type": "markdown",
   "metadata": {},
   "source": [
    "## Column Class\n",
    "#### Define the faces/emojis\n",
    "#### Generate random faces, used when pull_handle is invoked."
   ]
  },
  {
   "cell_type": "code",
   "execution_count": null,
   "metadata": {},
   "outputs": [],
   "source": [
    "class Column():\n",
    "    #def __init__(self):\n",
    "        #self.face = []\n",
    "\n",
    "    def change_face(self):\n",
    "        self.faces = [emoji.emojize(':red_apple:'),\n",
    "            emoji.emojize(':pear:'),\n",
    "            emoji.emojize(':tangerine:')\n",
    "        ]\n",
    "\n",
    "        self.face = choice(self.faces) "
   ]
  },
  {
   "cell_type": "markdown",
   "metadata": {},
   "source": [
    "## Creating instances"
   ]
  },
  {
   "cell_type": "code",
   "execution_count": null,
   "metadata": {},
   "outputs": [],
   "source": [
    "p1 = Purse()\n",
    "s1 = Slot()\n",
    "c1, c2, c3 = Column(), Column(), Column()"
   ]
  },
  {
   "cell_type": "markdown",
   "metadata": {},
   "source": [
    "## Function to bring it all together\n",
    "\n",
    "##### Printing outline of Slot machine + instructions + starting balance.\n",
    "##### Using while True to create an infinite loop.\n",
    "##### Using try and except to accomodate for both strings and integers as input without throwing an error message.\n",
    "##### Converting input prompt to an integer, could also use float if you wanted to be able to bet 13.50, 22.50 etc. Integer asked however.\n",
    "##### If input bet is less than 2, remind user that min bet is 2.\n",
    "##### If input bet > balance, tell user can't bet more than they have.\n",
    "## If bet meets requirements \n",
    "###### Take bet\n",
    "###### Show slot\n",
    "###### Score slot\n",
    "###### Print New balance\n",
    "###### If balance is less than 2, give user balance and close slot machine.\n",
    "###### Use except to take floats and strings as input, without giving error."
   ]
  },
  {
   "cell_type": "code",
   "execution_count": null,
   "metadata": {},
   "outputs": [],
   "source": [
    "def run_slot_machine():\n",
    "    print(\"========== SLOT MACHINE ==========\")\n",
    "    print(\"Minimum bet is 2. Type 'N' to exit.\")\n",
    "    print(\"Your balance is:\", p1.balance)\n",
    "    while True:\n",
    "        try:\n",
    "            inputBet = (input(\"Enter bet: \"))\n",
    "            if inputBet == \"N\":\n",
    "                print(\"Bye. Balance is:\",\"%1.2f\"  %p1.balance)\n",
    "                break\n",
    "            else:\n",
    "                inputBet = int(inputBet)\n",
    "                # inputBet = float(inputBet)\n",
    "                if inputBet < 2:\n",
    "                    print(\"Minimum bet is 2.\")\n",
    "                elif inputBet > p1.balance:\n",
    "                    print(\"You cannot bet more than you have, your current balance is\", p1.balance)\n",
    "                elif inputBet >= 2 and inputBet <= p1.balance:\n",
    "                    s1.take_bet(inputBet)\n",
    "                    # print(p1.balance)\n",
    "                    s1.show_slot()\n",
    "                    s1.score_slot(inputBet)\n",
    "                    print(\"New balance\", \"%1.2f\" %p1.balance)\n",
    "                    if p1.balance < 2:\n",
    "                        print(\"Thank you for playing, you are leaving with\", \"%1.2f\" %p1.balance)\n",
    "                        break\n",
    "        \n",
    "        except ValueError:\n",
    "            print(\"Try again. HINT: Enter an integer!\")"
   ]
  },
  {
   "cell_type": "code",
   "execution_count": null,
   "metadata": {},
   "outputs": [],
   "source": [
    "run_slot_machine()"
   ]
  }
 ],
 "metadata": {
  "kernelspec": {
   "display_name": "Python 3",
   "language": "python",
   "name": "python3"
  },
  "language_info": {
   "codemirror_mode": {
    "name": "ipython",
    "version": 3
   },
   "file_extension": ".py",
   "mimetype": "text/x-python",
   "name": "python",
   "nbconvert_exporter": "python",
   "pygments_lexer": "ipython3",
   "version": "3.7.4"
  }
 },
 "nbformat": 4,
 "nbformat_minor": 2
}
